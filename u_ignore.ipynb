{
 "cells": [
  {
   "cell_type": "markdown",
   "metadata": {},
   "source": [
    "## Attempting to replicate the results from:\n",
    "# **CheXpert: A large chest radiograph dataset with uncertainty labels and expert comparison**\n",
    "## https://arxiv.org/abs/1901.07031\n",
    "##### Irvin, Jeremy and Rajpurkar, Pranav and Ko, Michael and Yu, Yifan and Ciurea-Ilcus, Silviana and Chute, Chris and Marklund, Henrik and Haghgoo, Behzad and Ball, Robyn and Shpanskaya, Katie and others"
   ]
  },
  {
   "cell_type": "code",
   "execution_count": 40,
   "metadata": {},
   "outputs": [],
   "source": [
    "%reload_ext autoreload\n",
    "%autoreload 2\n",
    "%matplotlib inline"
   ]
  },
  {
   "cell_type": "code",
   "execution_count": 41,
   "metadata": {},
   "outputs": [],
   "source": [
    "from fastai.vision import *\n",
    "from torchvision.models import *\n",
    "import yaml\n",
    "import pandas as pd\n",
    "import datetime\n",
    "import numpy as np\n",
    "\n",
    "from sklearn.metrics import roc_auc_score"
   ]
  },
  {
   "cell_type": "markdown",
   "metadata": {},
   "source": [
    "### Load configuration with local path and url for dataset"
   ]
  },
  {
   "cell_type": "code",
   "execution_count": 42,
   "metadata": {},
   "outputs": [
    {
     "name": "stderr",
     "output_type": "stream",
     "text": [
      "/home/trevor/anaconda3/lib/python3.6/site-packages/ipykernel_launcher.py:2: YAMLLoadWarning: calling yaml.load() without Loader=... is deprecated, as the default Loader is unsafe. Please read https://msg.pyyaml.org/load for full details.\n",
      "  \n"
     ]
    }
   ],
   "source": [
    "with open(\"config.yml\", 'r') as ymlfile:\n",
    "    cfg = yaml.load(ymlfile)\n",
    "    path = cfg['path']"
   ]
  },
  {
   "cell_type": "code",
   "execution_count": 43,
   "metadata": {},
   "outputs": [],
   "source": [
    "chestxrays_root = Path(path)\n",
    "data_path = chestxrays_root"
   ]
  },
  {
   "cell_type": "code",
   "execution_count": 44,
   "metadata": {},
   "outputs": [
    {
     "data": {
      "text/plain": [
       "PosixPath('/media/trevor/main-storag')"
      ]
     },
     "execution_count": 44,
     "metadata": {},
     "output_type": "execute_result"
    }
   ],
   "source": [
    "data_path"
   ]
  },
  {
   "cell_type": "markdown",
   "metadata": {},
   "source": [
    "### Load Data"
   ]
  },
  {
   "cell_type": "code",
   "execution_count": 45,
   "metadata": {},
   "outputs": [],
   "source": [
    "full_train_df = pd.read_csv('/media/trevor/main-storag/CheXpert-v1.0-small/train.csv')\n",
    "full_valid_df = pd.read_csv('/media/trevor/main-storag/CheXpert-v1.0-small/valid.csv')"
   ]
  },
  {
   "cell_type": "code",
   "execution_count": 46,
   "metadata": {},
   "outputs": [],
   "source": [
    "chexnet_targets = ['No Finding',\n",
    "       'Enlarged Cardiomediastinum', 'Cardiomegaly', 'Lung Opacity',\n",
    "       'Lung Lesion', 'Edema', 'Consolidation', 'Pneumonia', 'Atelectasis',\n",
    "       'Pneumothorax', 'Pleural Effusion', 'Pleural Other', 'Fracture',\n",
    "       'Support Devices']\n",
    "\n",
    "chexpert_targets = ['Atelectasis', 'Cardiomegaly', 'Consolidation', 'Edema', 'Pleural Effusion']"
   ]
  },
  {
   "cell_type": "markdown",
   "metadata": {},
   "source": [
    "### Uncertainty Approaches\n",
    "\n",
    "The CheXpert paper outlines several different approaches to mapping using the uncertainty labels in the data:\n",
    "\n",
    "- Ignoring - essentially removing from the calculation in the loss function\n",
    "- Binary mapping - sending uncertain values to either 0 or 1\n",
    "- Prevalence mapping - use the rate of prevelance of the feature as it's target value\n",
    "- Self-training - consider the uncertain values as unlabeled\n",
    "- 3-Class Classification - retain a separate value for uncertain and try to predict it as a class in its own right\n",
    "\n",
    "\n",
    "The paper gives the results of different experiments with the above approaches and indicates the most accurate approach for each feature.\n",
    "    \n",
    "|Approach/Feature|Atelectasis|Cardiomegaly|Consolidation|Edema|PleuralEffusion|\n",
    "|-----------|-----------|-----------|-----------|-----------|-----------|\n",
    "|`U-Ignore`|0.818(0.759,0.877)|0.828(0.769,0.888)|0.938(0.905,0.970)|0.934(0.893,0.975)|0.928(0.894,0.962)|\n",
    "|`U-Zeros`|0.811(0.751,0.872)|0.840(0.783,0.897)|0.932(0.898,0.966)|0.929(0.888,0.970)|0.931(0.897,0.965)|\n",
    "|`U-Ones`|**0.858(0.806,0.910)**|0.832(0.773,0.890)|0.899(0.854,0.944)|0.941(0.903,0.980)|0.934(0.901,0.967)|\n",
    "|`U-Mean`|0.821(0.762,0.879)|0.832(0.771,0.892)|0.937(0.905,0.969)|0.939(0.902,0.975)|0.930(0.896,0.965)|\n",
    "|`U-SelfTrained`|0.833(0.776,0.890)|0.831(0.770,0.891)|0.939(0.908,0.971)|0.935(0.896,0.974)|0.932(0.899,0.966)|\n",
    "|`U-MultiClass`|0.821(0.763,0.879)|**0.854(0.800,0.909)**|0.937(0.905,0.969)|0.928(0.887,0.968)|0.936(0.904,0.967)|\n",
    "\n",
    "The binary mapping approaches (U-Ones and U-Zeros) are easiest to implement and so to begin with we take the best option between U-Ones and U-Zeros for each feature\n",
    "\n",
    "- Atelectasis `U-Ones`\n",
    "- Cardiomegaly `U-Zeros`\n",
    "- Consolidation `U-Zeros`\n",
    "- Edema `U-Ones`\n",
    "- Pleural Effusion `U-Zeros`"
   ]
  },
  {
   "cell_type": "markdown",
   "metadata": {},
   "source": [
    "We will use u-multiclasses in this attempt. So we re-define the classes as: "
   ]
  },
  {
   "cell_type": "code",
   "execution_count": 47,
   "metadata": {},
   "outputs": [],
   "source": [
    "# u_one_features = ['Atelectasis', 'Edema']\n",
    "# u_zero_features = ['Cardiomegaly', 'Consolidation', 'Pleural Effusion']\n",
    "u_targets = []\n",
    "p_targets = ['Atelectasis_p', 'Cardiomegaly_p', 'Consolidation_p', 'Edema_p', 'Pleural Effusion_p']\n",
    "n_targets = ['Atelectasis_n', 'Cardiomegaly_n', 'Consolidation_n', 'Edema_n', 'Pleural Effusion_n']\n",
    "u_multi_targets = u_targets + p_targets + n_targets"
   ]
  },
  {
   "cell_type": "markdown",
   "metadata": {},
   "source": [
    "### Add target features string"
   ]
  },
  {
   "cell_type": "code",
   "execution_count": 48,
   "metadata": {},
   "outputs": [],
   "source": [
    "# Determine the labels of the sample\n",
    "def feature_string(row):\n",
    "    feature_list = []\n",
    "    for feature in chexpert_targets:\n",
    "        # if 1 then has the feature\n",
    "        if row[feature] == 1:\n",
    "            feature_list.append(feature+'_p')\n",
    "        elif row[feature] == 0:\n",
    "            feature_list.append(feature+'_n')\n",
    "            \n",
    "    return ';'.join(feature_list)"
   ]
  },
  {
   "cell_type": "code",
   "execution_count": 49,
   "metadata": {},
   "outputs": [],
   "source": [
    "full_train_df['train_valid'] = False\n",
    "full_valid_df['train_valid'] = True"
   ]
  },
  {
   "cell_type": "markdown",
   "metadata": {},
   "source": [
    "##### Create patient and study columns"
   ]
  },
  {
   "cell_type": "code",
   "execution_count": 50,
   "metadata": {},
   "outputs": [],
   "source": [
    "full_train_df['patient'] = full_train_df.Path.str.split('/',3,True)[2]\n",
    "full_train_df  ['study'] = full_train_df.Path.str.split('/',4,True)[3]\n",
    "\n",
    "full_valid_df['patient'] = full_valid_df.Path.str.split('/',3,True)[2]\n",
    "full_valid_df  ['study'] = full_valid_df.Path.str.split('/',4,True)[3]"
   ]
  },
  {
   "cell_type": "code",
   "execution_count": 51,
   "metadata": {},
   "outputs": [],
   "source": [
    "full_df = pd.concat([full_train_df, full_valid_df])\n",
    "full_df = full_df.reset_index(drop=True)"
   ]
  },
  {
   "cell_type": "code",
   "execution_count": 52,
   "metadata": {},
   "outputs": [],
   "source": [
    "full_df['feature_string'] = full_df.apply(feature_string,axis = 1).fillna('')"
   ]
  },
  {
   "cell_type": "markdown",
   "metadata": {},
   "source": [
    "### Set up a small sample for fast iteration"
   ]
  },
  {
   "cell_type": "code",
   "execution_count": 53,
   "metadata": {},
   "outputs": [],
   "source": [
    "def get_sample_df(sample_perc = 0.05):\n",
    "    np.random.seed(99)\n",
    "    \n",
    "    train_only_df = full_df[~full_df.train_valid]\n",
    "    valid_only_df = full_df[full_df.train_valid]\n",
    "    unique_patients = train_only_df.patient.unique()\n",
    "    mask = np.random.rand(len(unique_patients)) < sample_perc\n",
    "    sample_patients = unique_patients[mask]\n",
    "\n",
    "    sample_df = train_only_df[full_train_df.patient.isin(sample_patients)]\n",
    "    return pd.concat([sample_df,valid_only_df])"
   ]
  },
  {
   "cell_type": "markdown",
   "metadata": {},
   "source": [
    "### Set up data set using Fastai datablock"
   ]
  },
  {
   "cell_type": "code",
   "execution_count": 54,
   "metadata": {},
   "outputs": [],
   "source": [
    "def get_src(df = full_df):\n",
    "    return (ImageList\n",
    "        .from_df(df, data_path, 'Path')\n",
    "        .split_from_df('train_valid')\n",
    "        .label_from_df('feature_string',label_delim=';')\n",
    "       )"
   ]
  },
  {
   "cell_type": "code",
   "execution_count": 55,
   "metadata": {},
   "outputs": [],
   "source": [
    "def get_data(size, src, bs=32):\n",
    "    return (src.transform(get_transforms(do_flip=False), size=size, padding_mode='zeros')\n",
    "        .databunch(bs=bs).normalize(imagenet_stats))"
   ]
  },
  {
   "cell_type": "markdown",
   "metadata": {},
   "source": [
    "## Create a function to evaluate performance of all features"
   ]
  },
  {
   "cell_type": "code",
   "execution_count": 56,
   "metadata": {},
   "outputs": [],
   "source": [
    "def get_preds_per_study():\n",
    "    valid_preds=learn.get_preds(ds_type=DatasetType.Valid)[0]\n",
    "   \n",
    "    for i, c in enumerate(learn.data.classes):\n",
    "        full_valid_df[c] = valid_preds[:,i]\n",
    "    \n",
    "    return full_valid_df.groupby(['patient','study'])[learn.data.classes].max().reset_index()"
   ]
  },
  {
   "cell_type": "code",
   "execution_count": 57,
   "metadata": {},
   "outputs": [],
   "source": [
    "# def validation_eval(learn):\n",
    "#     acts = full_valid_df.groupby(['patient','study'])[learn.data.classes].max().values\n",
    "\n",
    "#     valid_preds=learn.get_preds(ds_type=DatasetType.Valid)\n",
    "#     preds = valid_preds[0]\n",
    "#     preds_df = full_valid_df.copy()\n",
    "\n",
    "#     for i, c in enumerate(learn.data.classes):\n",
    "#         preds_df[c] = preds[:,i]\n",
    "\n",
    "#     preds = preds_df.groupby(['patient','study'])[learn.data.classes].max().values\n",
    "\n",
    "#     auc_scores = {data.classes[i]: roc_auc_score(acts[:,i],preds[:,i]) for i in range(len(chexpert_targets))}\n",
    "\n",
    "#     #average results reported in the associated paper\n",
    "#     chexpert_auc_scores = {'Atelectasis':      0.858,\n",
    "#                            'Cardiomegaly':     0.854,\n",
    "#                            'Consolidation':    0.939,\n",
    "#                            'Edema':            0.941,\n",
    "#                            'Pleural Effusion': 0.936}\n",
    "\n",
    "#     max_feat_len = max(map(len, chexpert_targets))\n",
    "\n",
    "#     avg_chexpert_auc = sum(list(chexpert_auc_scores.values()))/len(chexpert_auc_scores.values())\n",
    "#     avg_auc          = sum(list(auc_scores.values()))/len(auc_scores.values())\n",
    "\n",
    "#     [print(f'{k: <{max_feat_len}}\\t auc: {auc_scores[k]:.3}\\t chexpert auc: {chexpert_auc_scores[k]:.3}\\t difference:\\\n",
    "#     {(chexpert_auc_scores[k]-auc_scores[k]):.3}') for k in chexpert_targets]\n",
    "\n",
    "#     print(f'\\nAverage auc: {avg_auc:.3} \\t CheXpert average auc {avg_chexpert_auc:.3}\\t Difference {(avg_chexpert_auc-avg_auc):.3}')\n",
    "    \n",
    "#     return avg_auc"
   ]
  },
  {
   "cell_type": "code",
   "execution_count": 58,
   "metadata": {},
   "outputs": [],
   "source": [
    "def get_df_onehot(df):\n",
    "    for c in u_targets:\n",
    "        df[c] = [None]*len(df)\n",
    "    for idx,r in df.iterrows():\n",
    "        for c in chexpert_targets:\n",
    "            if r[c] == -1:\n",
    "                df.loc[idx,c] = None\n",
    "                df.loc[idx,c+'_p'] = 0\n",
    "                df.loc[idx,c+'_n'] = 0\n",
    "            elif r[c] == 1:\n",
    "                df.loc[idx,c] = None\n",
    "                df.loc[idx,c+'_p'] = 1\n",
    "                df.loc[idx,c+'_n'] = 0\n",
    "            elif r[c] == 0:\n",
    "                df.loc[idx,c] = None\n",
    "                df.loc[idx,c+'_p'] = 0\n",
    "                df.loc[idx,c+'_n'] = 1\n",
    "            else:\n",
    "                df.loc[idx,c] = None\n",
    "                df.loc[idx,c+'_p'] = 0\n",
    "                df.loc[idx,c+'_n'] = 0\n",
    "    return df"
   ]
  },
  {
   "cell_type": "code",
   "execution_count": 59,
   "metadata": {},
   "outputs": [],
   "source": [
    "def validation_eval(learn):\n",
    "    # unlike using u_1 and u_0, we need extra classes for binary auc_roc_score\n",
    "    # we will using similiar strategy as 'one_hot_encoding'\n",
    "    acts = get_df_onehot(full_valid_df)\n",
    "    \n",
    "    # model_classes_pred = [x for x in learn.data.classes if x in chexpert_targets]\n",
    "    acts = full_valid_df.groupby(['patient','study'])[learn.data.classes].max().values\n",
    "\n",
    "    valid_preds=learn.get_preds(ds_type=DatasetType.Valid)\n",
    "    preds = valid_preds[0]\n",
    "    preds_df = full_valid_df.copy()\n",
    "\n",
    "    for i, c in enumerate(learn.data.classes):\n",
    "        preds_df[c] = preds[:,i]\n",
    "\n",
    "    preds = preds_df.groupby(['patient','study'])[learn.data.classes].max().values\n",
    "    \n",
    "    auc_scores = {}\n",
    "    \n",
    "    for i in range(len(learn.data.classes)):\n",
    "        # handel only one class case\n",
    "        try:\n",
    "            score = roc_auc_score(acts[:,i],preds[:,i])\n",
    "        except ValueError:\n",
    "            n_acts = acts[:,i]\n",
    "            n_acts = np.append(n_acts,0)\n",
    "            n_acts = np.append(n_acts,1)\n",
    "            n_preds = preds[:,i]\n",
    "            n_preds = np.append(n_preds,0)\n",
    "            n_preds = np.append(n_preds,1)\n",
    "            print(n_acts)\n",
    "            score = roc_auc_score(n_acts,n_preds)\n",
    "        auc_scores[learn.data.classes[i]] = score\n",
    "    print(auc_scores)\n",
    "\n",
    "#     #average results reported in the associated paper\n",
    "#     chexpert_auc_scores = {'Atelectasis':      0.858,\n",
    "#                            'Cardiomegaly':     0.854,\n",
    "#                            'Consolidation':    0.939,\n",
    "#                            'Edema':            0.941,\n",
    "#                            'Pleural Effusion': 0.936}\n",
    "\n",
    "#     max_feat_len = max(map(len, chexpert_targets))\n",
    "\n",
    "#     avg_chexpert_auc = sum(list(chexpert_auc_scores.values()))/len(chexpert_auc_scores.values())\n",
    "    avg_auc = sum(list(auc_scores.values()))/len(auc_scores.values())\n",
    "\n",
    "    [print(f'auc: {auc_scores[k]:.3}\\t') for k in u_multi_targets]\n",
    "\n",
    "    print(f'\\nAverage auc: {avg_auc:.3} \\t')\n",
    "    \n",
    "    return avg_auc"
   ]
  },
  {
   "cell_type": "markdown",
   "metadata": {},
   "source": [
    "### Create callbacks to evaluate and save learner"
   ]
  },
  {
   "cell_type": "code",
   "execution_count": 60,
   "metadata": {},
   "outputs": [],
   "source": [
    "class CheXpertEvalCallback(LearnerCallback):\n",
    "    def __init__(self, learn):\n",
    "        super().__init__(learn)\n",
    "        self.skip = False\n",
    "        self.avg_auc = 0\n",
    "    def on_epoch_end(self,**kwargs):\n",
    "        if self.skip: return\n",
    "        # Here to change for another evaluation model\n",
    "        self.avg_auc = validation_eval(self.learn)"
   ]
  },
  {
   "cell_type": "code",
   "execution_count": 61,
   "metadata": {},
   "outputs": [],
   "source": [
    "class SaveCallback(LearnerCallback):\n",
    "    _order = 99\n",
    "    def __init__(self, learn):\n",
    "        super().__init__(learn)\n",
    "        self.epoch = 0\n",
    "        self.skip = False\n",
    "    def on_epoch_end(self, **kwargs):\n",
    "        self.epoch += 1\n",
    "        if self.skip: return\n",
    "        learn.save(f'{datetime.datetime.now():%Y-%m-%d %H:%M} AUC:{self.che_xpert_eval_callback.avg_auc:.3}')"
   ]
  },
  {
   "cell_type": "code",
   "execution_count": 62,
   "metadata": {},
   "outputs": [],
   "source": [
    "cbfs = [CheXpertEvalCallback, SaveCallback]"
   ]
  },
  {
   "cell_type": "markdown",
   "metadata": {},
   "source": [
    "### Alter LR_Finder to remove my callbacks before running"
   ]
  },
  {
   "cell_type": "code",
   "execution_count": 63,
   "metadata": {},
   "outputs": [],
   "source": [
    "def lr_find_no_cbs(learn):\n",
    "    learn.callback_fns = [cbf for cbf in learn.callback_fns if cbf not in cbfs]\n",
    "    lr_find(learn)\n",
    "    learn.recorder.plot(suggestion=True)\n",
    "    learn.callback_fns += cbfs"
   ]
  },
  {
   "cell_type": "markdown",
   "metadata": {},
   "source": [
    "### Train on full set with image size 224"
   ]
  },
  {
   "cell_type": "code",
   "execution_count": 64,
   "metadata": {},
   "outputs": [],
   "source": [
    "img_size = 224\n",
    "data = get_data(img_size, get_src(full_df))\n",
    "learn = cnn_learner(data, densenet121, callback_fns=cbfs)"
   ]
  },
  {
   "cell_type": "code",
   "execution_count": 65,
   "metadata": {},
   "outputs": [
    {
     "data": {
      "text/html": [],
      "text/plain": [
       "<IPython.core.display.HTML object>"
      ]
     },
     "metadata": {},
     "output_type": "display_data"
    },
    {
     "name": "stdout",
     "output_type": "stream",
     "text": [
      "LR Finder is complete, type {learner_name}.recorder.plot() to see the graph.\n",
      "Min numerical gradient: 2.29E-02\n"
     ]
    },
    {
     "data": {
      "image/png": "[encoded data removed]",
      "text/plain": [
       "<Figure size 432x288 with 1 Axes>"
      ]
     },
     "metadata": {},
     "output_type": "display_data"
    }
   ],
   "source": [
    "lr_find_no_cbs(learn)"
   ]
  },
  {
   "cell_type": "code",
   "execution_count": 66,
   "metadata": {},
   "outputs": [
    {
     "name": "stdout",
     "output_type": "stream",
     "text": [
      "{'Atelectasis_n': 0.7605333333333334, 'Atelectasis_p': 0.7813333333333333, 'Cardiomegaly_n': 0.7607417458163728, 'Cardiomegaly_p': 0.8299412030755314, 'Consolidation_n': 0.8950892857142858, 'Consolidation_p': 0.8770461309523809, 'Edema_n': 0.8019891500904159, 'Edema_p': 0.9079264617239301, 'Pleural Effusion_n': 0.8794806985294118, 'Pleural Effusion_p': 0.9240579044117647}\n",
      "auc: 0.781\t\n",
      "auc: 0.83\t\n",
      "auc: 0.877\t\n",
      "auc: 0.908\t\n",
      "auc: 0.924\t\n",
      "auc: 0.761\t\n",
      "auc: 0.761\t\n",
      "auc: 0.895\t\n",
      "auc: 0.802\t\n",
      "auc: 0.879\t\n",
      "\n",
      "Average auc: 0.842 \t\n"
     ]
    }
   ],
   "source": [
    "lr=1e-2\n",
    "learn.fit_one_cycle(1,slice(lr))"
   ]
  },
  {
   "cell_type": "code",
   "execution_count": 72,
   "metadata": {},
   "outputs": [],
   "source": [
    "# learn.export(Path('/media/trevor/main-storag/master_classes/big_data_health/BDH_project')/'models'/'u_ignore.pkl')\n",
    "learn.save('/media/trevor/main-storag/master_classes/big_data_health/BDH_project/models/u_ignore')"
   ]
  },
  {
   "cell_type": "markdown",
   "metadata": {},
   "source": [
    "### Train on sample set with image size 224"
   ]
  },
  {
   "cell_type": "code",
   "execution_count": null,
   "metadata": {},
   "outputs": [],
   "source": [
    "img_size = 224\n",
    "data = get_data(img_size, get_src(get_sample_df(0.02)), bs=40)\n",
    "learn = cnn_learner(data, densenet121, callback_fns=cbfs)"
   ]
  },
  {
   "cell_type": "code",
   "execution_count": null,
   "metadata": {},
   "outputs": [],
   "source": [
    "# Don't know what this is for...\n",
    "# learn.load('blah');"
   ]
  },
  {
   "cell_type": "code",
   "execution_count": null,
   "metadata": {},
   "outputs": [],
   "source": [
    "lr_find_no_cbs(learn)"
   ]
  },
  {
   "cell_type": "code",
   "execution_count": null,
   "metadata": {},
   "outputs": [],
   "source": [
    "lr = 5e-5\n",
    "learn.fit_one_cycle(1,slice(lr))"
   ]
  },
  {
   "cell_type": "code",
   "execution_count": null,
   "metadata": {},
   "outputs": [],
   "source": [
    "!nvidia-smi"
   ]
  },
  {
   "cell_type": "markdown",
   "metadata": {},
   "source": [
    "### Export entire model"
   ]
  },
  {
   "cell_type": "code",
   "execution_count": null,
   "metadata": {},
   "outputs": [],
   "source": [
    "# if learn is None:\n",
    "#     learn = load_learner(data_path/'models','naive_densenet.pkl')\n",
    "# else:\n",
    "#     full_train_df['patient'] = full_train_df.Path.str.split('/',3,True)[2]\n",
    "#     learn.export(data_path/'models'/'size_{img_size}_auc_{self.avg_auc}_{datetime.datetime.now(): \"%Y-%m-%d %H:%M\"}.pkl')"
   ]
  },
  {
   "cell_type": "markdown",
   "metadata": {},
   "source": [
    "### Things to try to improve score\n",
    "\n",
    "- Building more sophisticated model structure to account for unknowns\n",
    "- Curriculum learning\n",
    "- Mixup\n",
    "- Use the labelling tool from the ChexPert paper : https://github.com/stanfordmlgroup/chexpert-labeler"
   ]
  }
 ],
 "metadata": {
  "kernelspec": {
   "display_name": "Python 3",
   "language": "python",
   "name": "python3"
  },
  "language_info": {
   "codemirror_mode": {
    "name": "ipython",
    "version": 3
   },
   "file_extension": ".py",
   "mimetype": "text/x-python",
   "name": "python",
   "nbconvert_exporter": "python",
   "pygments_lexer": "ipython3",
   "version": "3.6.5"
  }
 },
 "nbformat": 4,
 "nbformat_minor": 2
}
